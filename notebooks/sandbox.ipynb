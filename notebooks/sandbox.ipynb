{
 "cells": [
  {
   "cell_type": "code",
   "execution_count": 1,
   "metadata": {},
   "outputs": [],
   "source": [
    "%load_ext autoreload\n",
    "%autoreload 2\n",
    "\n",
    "import sys\n",
    "from pathlib import Path\n",
    "\n",
    "sys.path.insert(0, str((Path.cwd() / \"../\").resolve()))"
   ]
  },
  {
   "cell_type": "code",
   "execution_count": 5,
   "metadata": {},
   "outputs": [],
   "source": [
    "from lib.core import get_alphabet, get_staff_data_for_letters"
   ]
  },
  {
   "cell_type": "code",
   "execution_count": 29,
   "metadata": {},
   "outputs": [
    {
     "data": {
      "application/vnd.jupyter.widget-view+json": {
       "model_id": "bd3c8fabbfde450892b92fad15c0d4ea",
       "version_major": 2,
       "version_minor": 0
      },
      "text/plain": [
       "Downloading A:   0%|          | Page 0 of 16"
      ]
     },
     "metadata": {},
     "output_type": "display_data"
    },
    {
     "data": {
      "application/vnd.jupyter.widget-view+json": {
       "model_id": "28c1265c71df404496a03610998d14d5",
       "version_major": 2,
       "version_minor": 0
      },
      "text/plain": [
       "Downloading L:   0%|          | Page 0 of 20"
      ]
     },
     "metadata": {},
     "output_type": "display_data"
    },
    {
     "data": {
      "application/vnd.jupyter.widget-view+json": {
       "model_id": "92ee63207bcb4e89993b0bbfb3342673",
       "version_major": 2,
       "version_minor": 0
      },
      "text/plain": [
       "Downloading P:   0%|          | Page 0 of 21"
      ]
     },
     "metadata": {},
     "output_type": "display_data"
    },
    {
     "data": {
      "application/vnd.jupyter.widget-view+json": {
       "model_id": "40a4adc8703544888dffdb5c3e3fddfb",
       "version_major": 2,
       "version_minor": 0
      },
      "text/plain": [
       "Downloading I:   0%|          | Page 0 of 3"
      ]
     },
     "metadata": {},
     "output_type": "display_data"
    },
    {
     "data": {
      "application/vnd.jupyter.widget-view+json": {
       "model_id": "7280556f701b470ab766270ba382e2d4",
       "version_major": 2,
       "version_minor": 0
      },
      "text/plain": [
       "Downloading B:   0%|          | Page 0 of 34"
      ]
     },
     "metadata": {},
     "output_type": "display_data"
    },
    {
     "data": {
      "application/vnd.jupyter.widget-view+json": {
       "model_id": "7ce5dfe9db0444adbb970f471fc4af41",
       "version_major": 2,
       "version_minor": 0
      },
      "text/plain": [
       "Downloading D:   0%|          | Page 0 of 18"
      ]
     },
     "metadata": {},
     "output_type": "display_data"
    },
    {
     "data": {
      "application/vnd.jupyter.widget-view+json": {
       "model_id": "1b49739f1ca74e9b9218c70803e8e31d",
       "version_major": 2,
       "version_minor": 0
      },
      "text/plain": [
       "Downloading O:   0%|          | Page 0 of 6"
      ]
     },
     "metadata": {},
     "output_type": "display_data"
    },
    {
     "data": {
      "application/vnd.jupyter.widget-view+json": {
       "model_id": "45202b5fb8814c1aaa5d720b40241caf",
       "version_major": 2,
       "version_minor": 0
      },
      "text/plain": [
       "Downloading F:   0%|          | Page 0 of 11"
      ]
     },
     "metadata": {},
     "output_type": "display_data"
    },
    {
     "data": {
      "application/vnd.jupyter.widget-view+json": {
       "model_id": "ccae35cd107f40c7aa685ed5a73f94a8",
       "version_major": 2,
       "version_minor": 0
      },
      "text/plain": [
       "Downloading K:   0%|          | Page 0 of 17"
      ]
     },
     "metadata": {},
     "output_type": "display_data"
    },
    {
     "data": {
      "application/vnd.jupyter.widget-view+json": {
       "model_id": "50ac2d48e9064e0ab0daa3baf5d33120",
       "version_major": 2,
       "version_minor": 0
      },
      "text/plain": [
       "Downloading E:   0%|          | Page 0 of 8"
      ]
     },
     "metadata": {},
     "output_type": "display_data"
    },
    {
     "data": {
      "application/vnd.jupyter.widget-view+json": {
       "model_id": "3e5ab92caa1f434bafdbea90205a009b",
       "version_major": 2,
       "version_minor": 0
      },
      "text/plain": [
       "Downloading N:   0%|          | Page 0 of 8"
      ]
     },
     "metadata": {},
     "output_type": "display_data"
    },
    {
     "data": {
      "application/vnd.jupyter.widget-view+json": {
       "model_id": "b91b6bbb1cd645898945f4e099dd96e5",
       "version_major": 2,
       "version_minor": 0
      },
      "text/plain": [
       "Downloading G:   0%|          | Page 0 of 22"
      ]
     },
     "metadata": {},
     "output_type": "display_data"
    },
    {
     "data": {
      "application/vnd.jupyter.widget-view+json": {
       "model_id": "c88f6360caa24680b186b72ea0fd9b67",
       "version_major": 2,
       "version_minor": 0
      },
      "text/plain": [
       "Downloading M:   0%|          | Page 0 of 34"
      ]
     },
     "metadata": {},
     "output_type": "display_data"
    },
    {
     "data": {
      "application/vnd.jupyter.widget-view+json": {
       "model_id": "79298128d6c641d7b595c3426ddb1341",
       "version_major": 2,
       "version_minor": 0
      },
      "text/plain": [
       "Downloading C:   0%|          | Page 0 of 30"
      ]
     },
     "metadata": {},
     "output_type": "display_data"
    },
    {
     "data": {
      "application/vnd.jupyter.widget-view+json": {
       "model_id": "c7137c39348c420b84b73a44b4c0834f",
       "version_major": 2,
       "version_minor": 0
      },
      "text/plain": [
       "Downloading J:   0%|          | Page 0 of 10"
      ]
     },
     "metadata": {},
     "output_type": "display_data"
    },
    {
     "data": {
      "application/vnd.jupyter.widget-view+json": {
       "model_id": "22176aca4acf4fcca55db86f0c971bb6",
       "version_major": 2,
       "version_minor": 0
      },
      "text/plain": [
       "Downloading H:   0%|          | Page 0 of 29"
      ]
     },
     "metadata": {},
     "output_type": "display_data"
    },
    {
     "data": {
      "application/vnd.jupyter.widget-view+json": {
       "model_id": "f8a0eb92735b4bb1b6a0e1b4dd110e51",
       "version_major": 2,
       "version_minor": 0
      },
      "text/plain": [
       "Downloading R:   0%|          | Page 0 of 21"
      ]
     },
     "metadata": {},
     "output_type": "display_data"
    },
    {
     "data": {
      "application/vnd.jupyter.widget-view+json": {
       "model_id": "6966fa3b1d0f45f5bbe0beff04a87745",
       "version_major": 2,
       "version_minor": 0
      },
      "text/plain": [
       "Downloading S:   0%|          | Page 0 of 40"
      ]
     },
     "metadata": {},
     "output_type": "display_data"
    },
    {
     "data": {
      "application/vnd.jupyter.widget-view+json": {
       "model_id": "c5f730a99bc64756b7864c22f7104398",
       "version_major": 2,
       "version_minor": 0
      },
      "text/plain": [
       "Downloading T:   0%|          | Page 0 of 14"
      ]
     },
     "metadata": {},
     "output_type": "display_data"
    },
    {
     "data": {
      "application/vnd.jupyter.widget-view+json": {
       "model_id": "abf651e0bffb4461a166da1214d4e664",
       "version_major": 2,
       "version_minor": 0
      },
      "text/plain": [
       "Downloading W:   0%|          | Page 0 of 24"
      ]
     },
     "metadata": {},
     "output_type": "display_data"
    },
    {
     "data": {
      "application/vnd.jupyter.widget-view+json": {
       "model_id": "339e8a6560fe4d74b2878111a1ac1998",
       "version_major": 2,
       "version_minor": 0
      },
      "text/plain": [
       "Downloading U:   0%|          | Page 0 of 2"
      ]
     },
     "metadata": {},
     "output_type": "display_data"
    },
    {
     "data": {
      "application/vnd.jupyter.widget-view+json": {
       "model_id": "0d237e0912a248b8878fbf8d79edb9dc",
       "version_major": 2,
       "version_minor": 0
      },
      "text/plain": [
       "Downloading Z:   0%|          | Page 0 of 4"
      ]
     },
     "metadata": {},
     "output_type": "display_data"
    },
    {
     "data": {
      "application/vnd.jupyter.widget-view+json": {
       "model_id": "e83b50f4295b4dc7b872b8e0eca85bc5",
       "version_major": 2,
       "version_minor": 0
      },
      "text/plain": [
       "Downloading Y:   0%|          | Page 0 of 5"
      ]
     },
     "metadata": {},
     "output_type": "display_data"
    },
    {
     "data": {
      "application/vnd.jupyter.widget-view+json": {
       "model_id": "18618c8209ec49a792121c69951f94ca",
       "version_major": 2,
       "version_minor": 0
      },
      "text/plain": [
       "Downloading V:   0%|          | Page 0 of 5"
      ]
     },
     "metadata": {},
     "output_type": "display_data"
    }
   ],
   "source": [
    "alphabet = get_alphabet()\n",
    "df = get_staff_data_for_letters(alphabet)\n",
    "df.sort(by=\"last\").write_csv(\"../data.csv\")"
   ]
  },
  {
   "cell_type": "code",
   "execution_count": null,
   "metadata": {},
   "outputs": [],
   "source": []
  }
 ],
 "metadata": {
  "kernelspec": {
   "display_name": "Python (Pixi)",
   "language": "python",
   "name": "pixi-kernel-python3"
  },
  "language_info": {
   "codemirror_mode": {
    "name": "ipython",
    "version": 3
   },
   "file_extension": ".py",
   "mimetype": "text/x-python",
   "name": "python",
   "nbconvert_exporter": "python",
   "pygments_lexer": "ipython3",
   "version": "3.10.15"
  }
 },
 "nbformat": 4,
 "nbformat_minor": 2
}
